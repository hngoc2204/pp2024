{
 "cells": [
  {
   "cell_type": "code",
   "execution_count": 17,
   "id": "41d68f7c-fa0d-4571-a4b2-8a52312a53a2",
   "metadata": {},
   "outputs": [
    {
     "name": "stdin",
     "output_type": "stream",
     "text": [
      "The number of students:  2\n",
      "Name of the student:  Ngoc\n",
      "DoB of the student:  23BI14345\n",
      "Name of the student:  Minh\n",
      "DoB of the student:  23BI14296\n",
      "The number of courses:  2\n",
      "Name of the course:  French 2.001\n",
      "Name of the course:  French 2.002\n",
      "Mark of the student in this course:  20\n",
      "Mark of the student in this course:  20\n",
      "Mark of the student in this course:  20\n",
      "Mark of the student in this course:  20\n"
     ]
    },
    {
     "name": "stdout",
     "output_type": "stream",
     "text": [
      "Course ID: FR2.001\n",
      "Course name: French 2.001\n",
      "Course ID: FR2.002\n",
      "Course name: French 2.002\n",
      "Student ID: 23BI14345\n",
      "Student name: Ngoc\n",
      "DoB: 23BI14345\n",
      "Student ID: 23BI14296\n",
      "Student name: Minh\n",
      "DoB: 23BI14296\n",
      "Course ID: FR2.001\n",
      "Student ID: 23BI14345\n",
      "Mark: 20\n",
      "Student ID: 23BI14296\n",
      "Mark: 20\n"
     ]
    }
   ],
   "source": [
    "def student_num():\n",
    "    return int(input(\"The number of students: \"))\n",
    "def student_info(id):\n",
    "    name= str(input(\"Name of the student: \"))\n",
    "    DoB= str(input(\"DoB of the student: \"))\n",
    "    student= {'ID': id, 'Name': name, 'DoB': DoB}\n",
    "    return student\n",
    "def course_num():\n",
    "    return int(input(\"The number of courses: \"))\n",
    "def course_info(id):\n",
    "    name= str(input(\"Name of the course: \"))\n",
    "    course= {'ID': id, 'Name': name}\n",
    "    return course\n",
    "\n",
    "def score(course_id, student_id):\n",
    "    mark= int(input(\"Mark of the student in this course: \"))\n",
    "    score= {'Student ID': student_id, 'Course ID': course_id, 'Mark': mark}\n",
    "    return score\n",
    "\n",
    "def list_course(courses):\n",
    "    for course in courses:\n",
    "        print(\"Course ID: \"+ course['ID'])\n",
    "        print(\"Course name: \"+ course['Name'])\n",
    "\n",
    "def list_student(students):\n",
    "    for student in students:\n",
    "        print(\"Student ID: \"+ student['ID'])\n",
    "        print(\"Student name: \"+ student['Name'])\n",
    "        print(\"DoB: \"+ student['DoB'])\n",
    "\n",
    "def list_mark(course_id, marks):\n",
    "    print(\"Course ID: \"+ course_id)\n",
    "    for mark in marks:\n",
    "        if mark['Course ID'] == course_id: \n",
    "            print(\"Student ID: \"+ mark['Student ID'])\n",
    "            print(\"Mark: \"+ str(mark['Mark']))\n",
    "\n",
    "student_num()\n",
    "student_1= student_info(\"23BI14345\")\n",
    "student_2= student_info(\"23BI14296\")\n",
    "students= [student_1, student_2]\n",
    "\n",
    "course_num()\n",
    "course_1= course_info(\"FR2.001\")\n",
    "course_2= course_info(\"FR2.002\")\n",
    "courses= [course_1, course_2]\n",
    "\n",
    "mark_1= score(\"FR2.001\", \"23BI14345\")\n",
    "mark_2= score(\"FR2.001\", \"23BI14296\")\n",
    "mark_3= score(\"FR2.002\", \"23BI14345\")\n",
    "mark_4= score(\"FR2.002\", \"23BI14296\")\n",
    "marks= [mark_1, mark_2, mark_3, mark_4]\n",
    "\n",
    "list_course(courses)\n",
    "list_student(students)\n",
    "list_mark(\"FR2.001\", marks)"
   ]
  },
  {
   "cell_type": "code",
   "execution_count": 16,
   "id": "19a03dd1-92c6-4345-8c77-e8948ec0ba98",
   "metadata": {},
   "outputs": [
    {
     "name": "stdin",
     "output_type": "stream",
     "text": [
      "Mark of the student in this course:  20\n",
      "Mark of the student in this course:  20\n",
      "Mark of the student in this course:  20\n",
      "Mark of the student in this course:  20\n"
     ]
    },
    {
     "name": "stdout",
     "output_type": "stream",
     "text": [
      "Course ID: FR2.001\n",
      "Student ID: 23BI14345\n",
      "Mark: 20\n",
      "Student ID: 23BI14296\n",
      "Mark: 20\n"
     ]
    }
   ],
   "source": []
  },
  {
   "cell_type": "code",
   "execution_count": null,
   "id": "f2b57fa5-04a1-41fb-a5d7-6ca739bf2d56",
   "metadata": {},
   "outputs": [],
   "source": []
  }
 ],
 "metadata": {
  "kernelspec": {
   "display_name": "Python 3 (ipykernel)",
   "language": "python",
   "name": "python3"
  },
  "language_info": {
   "codemirror_mode": {
    "name": "ipython",
    "version": 3
   },
   "file_extension": ".py",
   "mimetype": "text/x-python",
   "name": "python",
   "nbconvert_exporter": "python",
   "pygments_lexer": "ipython3",
   "version": "3.12.7"
  }
 },
 "nbformat": 4,
 "nbformat_minor": 5
}
