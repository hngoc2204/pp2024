{
 "cells": [
  {
   "cell_type": "code",
   "execution_count": 6,
   "id": "aa9dc6ba-2174-40da-8b1a-4403615b1d6e",
   "metadata": {},
   "outputs": [
    {
     "name": "stdin",
     "output_type": "stream",
     "text": [
      "The number of students:  2\n",
      "The number of courses:  2\n"
     ]
    },
    {
     "name": "stdout",
     "output_type": "stream",
     "text": [
      "Course ID: FR2.001\n",
      "Course name: French 2.001\n",
      "Course ID: FR2.002\n",
      "Course name: French 2.002\n",
      "Student ID: 23BI14345\n",
      "Student name: Hngoc\n",
      "DoB: 22/04/2005\n",
      "Student ID: 23BI14296\n",
      "Student name: Qminh\n",
      "DoB: 06/02/2005\n",
      "Course ID: FR2.002\n",
      "Student ID: 23BI14345\n",
      "Mark: 20\n",
      "Student ID: 23BI14296\n",
      "Mark: 20\n"
     ]
    }
   ],
   "source": [
    "class Student:\n",
    "    def __init__(self, id, name, dob):\n",
    "        self.id= id\n",
    "        self.name= name\n",
    "        self.dob= dob\n",
    "\n",
    "class Course:\n",
    "    def __init__(self, id, name):\n",
    "        self.id= id\n",
    "        self.name= name\n",
    "\n",
    "class StudentMark:\n",
    "    def __init__(self, course_id, student_id, score):\n",
    "        self.course_id= course_id\n",
    "        self.student_id= student_id\n",
    "        self.score= score\n",
    "\n",
    "def student_num():\n",
    "    return int(input(\"The number of students: \"))\n",
    "\n",
    "def course_num():\n",
    "    return int(input(\"The number of courses: \"))\n",
    "\n",
    "def list_course(courses):\n",
    "    for course in courses:\n",
    "        print(\"Course ID: \"+ course.id)\n",
    "        print(\"Course name: \"+ course.name)\n",
    "\n",
    "def list_student(students):\n",
    "    for student in students:\n",
    "        print(\"Student ID: \"+ student.id)\n",
    "        print(\"Student name: \"+ student.name)\n",
    "        print(\"DoB: \"+ student.dob)\n",
    "\n",
    "def list_mark(course_id, marks):\n",
    "    print(\"Course ID: \"+ course_id)\n",
    "    for mark in marks:\n",
    "        if mark.course_id == course_id: \n",
    "            print(\"Student ID: \"+ mark.student_id)\n",
    "            print(\"Mark: \"+ str(mark.score))\n",
    "\n",
    "student_1= Student(\"23BI14345\",\"Hngoc\",\"22/04/2005\")\n",
    "student_2= Student(\"23BI14296\", \"Qminh\", \"06/02/2005\")\n",
    "students= [student_1, student_2]\n",
    "\n",
    "course_1= Course(\"FR2.001\", \"French 2.001\")\n",
    "course_2= Course(\"FR2.002\", \"French 2.002\")\n",
    "courses= [course_1, course_2]\n",
    "\n",
    "mark_1= StudentMark(\"FR2.001\", \"23BI14345\", 20)\n",
    "mark_2= StudentMark(\"FR2.001\", \"23BI14296\", 20)\n",
    "mark_3= StudentMark(\"FR2.002\", \"23BI14345\", 20)\n",
    "mark_4= StudentMark(\"FR2.002\", \"23BI14296\", 20)\n",
    "marks= [mark_1, mark_2, mark_3, mark_4]\n",
    "\n",
    "student_num()\n",
    "course_num()\n",
    "list_course(courses)\n",
    "list_student(students)\n",
    "list_mark(\"FR2.002\", marks)"
   ]
  },
  {
   "cell_type": "code",
   "execution_count": null,
   "id": "d977cce6-d1b8-44c8-b2e8-6720d1313665",
   "metadata": {},
   "outputs": [],
   "source": []
  }
 ],
 "metadata": {
  "kernelspec": {
   "display_name": "Python 3 (ipykernel)",
   "language": "python",
   "name": "python3"
  },
  "language_info": {
   "codemirror_mode": {
    "name": "ipython",
    "version": 3
   },
   "file_extension": ".py",
   "mimetype": "text/x-python",
   "name": "python",
   "nbconvert_exporter": "python",
   "pygments_lexer": "ipython3",
   "version": "3.12.7"
  }
 },
 "nbformat": 4,
 "nbformat_minor": 5
}
